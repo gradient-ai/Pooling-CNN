{
 "cells": [
  {
   "cell_type": "code",
   "execution_count": null,
   "source": [
    "#  import these dependencies\n",
    "import torch\n",
    "import numpy as np\n",
    "import matplotlib.pyplot as plt\n",
    "import torch.nn.functional as F\n",
    "from tqdm import tqdm\n"
   ],
   "outputs": [],
   "metadata": {}
  },
  {
   "cell_type": "markdown",
   "source": [
    "# Max Pooling Behind The Scenes"
   ],
   "metadata": {}
  },
  {
   "cell_type": "code",
   "execution_count": null,
   "source": [
    "def max_pool(image_path, kernel_size=2, visualize=False, title=''):\n",
    "    \"\"\"\n",
    "      This function replicates the maxpooling\n",
    "      process\n",
    "      \"\"\"\n",
    "\n",
    "    #  assessing image parameter\n",
    "     if type(image_path) is np.ndarray and len(image_path.shape) == 2:\n",
    "        image = image_path\n",
    "      else:\n",
    "        image = cv2.imread(image_path, cv2.IMREAD_GRAYSCALE)\n",
    "\n",
    "      #  creating an empty list to store convolutions\n",
    "      pooled = np.zeros((image.shape[0]//kernel_size,\n",
    "                        image.shape[1]//kernel_size))\n",
    "\n",
    "      #  instantiating counter\n",
    "      k = -1\n",
    "      #  maxpooling\n",
    "      for i in tqdm(range(0, image.shape[0], kernel_size)):\n",
    "        k += 1\n",
    "        l = -1\n",
    "        if k == pooled.shape[0]:\n",
    "          break\n",
    "        for j in range(0, image.shape[1], kernel_size):\n",
    "          l += 1\n",
    "          if l == pooled.shape[1]:\n",
    "            break\n",
    "          try:\n",
    "            pooled[k, l] = (image[i:(i+kernel_size),\n",
    "                                  j:(j+kernel_size)]).max()\n",
    "          except ValueError:\n",
    "            pass\n",
    "\n",
    "      if visualize:\n",
    "        #  displaying results\n",
    "        figure, axes = plt.subplots(1, 2, dpi=120)\n",
    "        plt.suptitle(title)\n",
    "        axes[0].imshow(image, cmap='gray')\n",
    "        axes[0].set_title('reference image')\n",
    "        axes[1].imshow(pooled, cmap='gray')\n",
    "        axes[1].set_title('maxpooled')\n",
    "      return pooled\n"
   ],
   "outputs": [],
   "metadata": {}
  },
  {
   "cell_type": "code",
   "execution_count": null,
   "source": [
    "max_pool('image.jpg', 2, visualize=True)\n"
   ],
   "outputs": [],
   "metadata": {}
  },
  {
   "cell_type": "markdown",
   "source": [
    "# Visualize max pooling function"
   ],
   "metadata": {}
  },
  {
   "cell_type": "code",
   "execution_count": null,
   "source": [
    "def visualize_pooling(image_path, iterations, kernel=2):\n",
    "    \"\"\"\n",
    "      This function helps to visualise several\n",
    "      iterations of the pooling process\n",
    "      \"\"\"\n",
    "    image = cv2.imread(image_path, cv2.IMREAD_GRAYSCALE)\n",
    "\n",
    "    #  creating empty list to hold pools\n",
    "    pools = []\n",
    "    pools.append(image)\n",
    "\n",
    "     #  performing pooling\n",
    "     for iteration in range(iterations):\n",
    "        pool = max_pool(pools[-1], kernel)\n",
    "        pools.append(pool)\n",
    "\n",
    "      #  visualisation\n",
    "      fig, axis = plt.subplots(1, len(pools), dpi=700)\n",
    "      for i in range(len(pools)):\n",
    "        axis[i].imshow(pools[i], cmap='gray')\n",
    "        axis[i].set_title(f'{pools[i].shape}', fontsize=5)\n",
    "        axis[i].axis('off')\n",
    "      pass\n"
   ],
   "outputs": [],
   "metadata": {}
  },
  {
   "cell_type": "code",
   "execution_count": null,
   "source": [
    "visualize_pooling('image.jpg', 3)\n"
   ],
   "outputs": [],
   "metadata": {}
  },
  {
   "cell_type": "code",
   "execution_count": null,
   "source": [
    "visualize_pooling('image.jpg', 3, kernel=3)\n"
   ],
   "outputs": [],
   "metadata": {}
  },
  {
   "cell_type": "markdown",
   "source": [
    "# Average Pooling Behind The Scenes"
   ],
   "metadata": {}
  },
  {
   "cell_type": "code",
   "execution_count": null,
   "source": [
    "def average_pool(image_path, kernel_size=2, visualize=False, title=''):\n",
    "    \"\"\"\n",
    "      This function replicates the averagepooling\n",
    "      process\n",
    "      \"\"\"\n",
    "\n",
    "    #  assessing image parameter\n",
    "     if type(image_path) is np.ndarray and len(image_path.shape) == 2:\n",
    "        image = image_path\n",
    "      else:\n",
    "        image = cv2.imread(image_path, cv2.IMREAD_GRAYSCALE)\n",
    "\n",
    "      #  creating an empty list to store convolutions\n",
    "      pooled = np.zeros((image.shape[0]//kernel_size,\n",
    "                        image.shape[1]//kernel_size))\n",
    "\n",
    "      #  instantiating counter\n",
    "      k = -1\n",
    "      #  averagepooling\n",
    "      for i in tqdm(range(0, image.shape[0], kernel_size)):\n",
    "        k += 1\n",
    "        l = -1\n",
    "        if k == pooled.shape[0]:\n",
    "          break\n",
    "        for j in range(0, image.shape[1], kernel_size):\n",
    "          l += 1\n",
    "          if l == pooled.shape[1]:\n",
    "            break\n",
    "          try:\n",
    "            pooled[k, l] = (image[i:(i+kernel_size),\n",
    "                                  j:(j+kernel_size)]).mean()\n",
    "          except ValueError:\n",
    "            pass\n",
    "\n",
    "      if visualize:\n",
    "        #  displaying results\n",
    "        figure, axes = plt.subplots(1, 2, dpi=120)\n",
    "        plt.suptitle(title)\n",
    "        axes[0].imshow(image, cmap='gray')\n",
    "        axes[0].set_title('reference image')\n",
    "        axes[1].imshow(pooled, cmap='gray')\n",
    "        axes[1].set_title('averagepooled')\n",
    "      return pooled\n"
   ],
   "outputs": [],
   "metadata": {}
  },
  {
   "cell_type": "code",
   "execution_count": null,
   "source": [
    "average_pool('image.jpg', 2, visualize=True)\n"
   ],
   "outputs": [],
   "metadata": {}
  },
  {
   "cell_type": "markdown",
   "source": [
    "# Visualize average pooling function"
   ],
   "metadata": {}
  },
  {
   "cell_type": "code",
   "execution_count": null,
   "source": [
    "def visualize_pooling(image_path, iterations, kernel=2):\n",
    "    \"\"\"\n",
    "      This function helps to visualise several\n",
    "      iterations of the pooling process\n",
    "      \"\"\"\n",
    "    image = cv2.imread(image_path, cv2.IMREAD_GRAYSCALE)\n",
    "\n",
    "    #  creating empty list to hold pools\n",
    "    pools = []\n",
    "    pools.append(image)\n",
    "\n",
    "     #  performing pooling\n",
    "     for iteration in range(iterations):\n",
    "        pool = average_pool(pools[-1], kernel)\n",
    "        pools.append(pool)\n",
    "\n",
    "      #  visualisation\n",
    "      fig, axis = plt.subplots(1, len(pools), dpi=700)\n",
    "      for i in range(len(pools)):\n",
    "        axis[i].imshow(pools[i], cmap='gray')\n",
    "        axis[i].set_title(f'{pools[i].shape}', fontsize=5)\n",
    "        axis[i].axis('off')\n",
    "      pass\n"
   ],
   "outputs": [],
   "metadata": {}
  },
  {
   "cell_type": "code",
   "execution_count": null,
   "source": [
    "visualize_pooling('image.jpg', 3)\n"
   ],
   "outputs": [],
   "metadata": {}
  },
  {
   "cell_type": "code",
   "execution_count": null,
   "source": [
    "visualize_pooling('image.jpg', 3, kernel=3)\n"
   ],
   "outputs": [],
   "metadata": {}
  }
 ],
 "metadata": {
  "orig_nbformat": 4,
  "language_info": {
   "name": "python"
  }
 },
 "nbformat": 4,
 "nbformat_minor": 2
}